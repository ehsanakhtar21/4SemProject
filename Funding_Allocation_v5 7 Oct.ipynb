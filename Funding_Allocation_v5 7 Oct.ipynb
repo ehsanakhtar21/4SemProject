{
  "cells": [
    {
      "cell_type": "code",
      "execution_count": 11,
      "id": "bbfb1621",
      "metadata": {},
      "outputs": [],
      "source": [
        "import gurobipy as gp\n",
        "import pandas as pd\n",
        "import folium\n",
        "import matplotlib.pyplot as plt\n",
        "import seaborn as sns\n",
        "import numpy as np\n",
        "from sklearn.model_selection import train_test_split"
      ]
    },
    {
      "cell_type": "markdown",
      "id": "f7d2976f",
      "metadata": {},
      "source": [
        "# Gurobi Environment\n",
        "\n",
        "When Gurobi is run on local machine, creating an environment will obtain a license, and disposing of the environment will release that license. \n",
        "\n",
        "Gurobi environment is created by calling the function `gurobipy.Env()`. The environment is disposed of by calling the function `env.dispose()`.\n"
      ]
    },
    {
      "cell_type": "code",
      "execution_count": 12,
      "id": "bhwRF8Nitp6J",
      "metadata": {
        "colab": {
          "base_uri": "https://localhost:8080/"
        },
        "id": "bhwRF8Nitp6J",
        "outputId": "9c2f98cc-1c1e-43f2-a5ed-49547e7ddcdd"
      },
      "outputs": [
        {
          "name": "stdout",
          "output_type": "stream",
          "text": [
            "Set parameter WLSAccessID\n",
            "Set parameter WLSSecret\n",
            "Set parameter LicenseID to value 2419076\n"
          ]
        },
        {
          "name": "stdout",
          "output_type": "stream",
          "text": [
            "Academic license - for non-commercial use only - registered to 2021fc04625@wilp.bits-pilani.ac.in\n"
          ]
        }
      ],
      "source": [
        "# Create an environment with your WLS license\n",
        "params = {\n",
        "\"WLSACCESSID\": '915f39ff-e6cb-47c8-913d-e5a46c3209af',\n",
        "\"WLSSECRET\": '377acdef-a125-476f-8614-816e5c6c7e80',\n",
        "\"LICENSEID\": 2419076,\n",
        "}\n",
        "env = gp.Env(params=params)\n",
        "\n",
        "# Create the model within the Gurobi environment\n",
        "model = gp.Model(env=env)"
      ]
    },
    {
      "cell_type": "markdown",
      "id": "3b842391",
      "metadata": {},
      "source": [
        "# Data Sets\n",
        "Data from ERP and CRM systems was extracted in excel files, cleaned and merged to arrive at two sources of data required for funding allocation to work. **Fund** and **Expense**\n",
        "Workbook v4 contains two sheets. One for Fund and Another for Expense\n",
        "## Expense\n",
        "Expense data has been created by combining data from following sources:\n",
        "-  **ERP Project Master**\n",
        "-  **ERP Project Task (Work Breakdown Structure) Details**\n",
        "-  **ERP Project Cost Details**\n",
        "-  **Department Hierarchy Master Data**\n",
        "\n",
        "It shows the values related to Results Based Management (RBM), Earmarking Details and other Strategic Framework dimensions against each expense line.\n",
        "*Expense Id* has been added additionally for ease of validation of Funding Allocation results.\n",
        "\n",
        "<div style=\"font-size: 10px;background-color: #f2f2f2; width: 1200px; height: 200px; overflow: auto;\">\n",
        "\n",
        "|Expense Id\t|Project Name\t|Task Number\t|Expenditure Type\t|Budget Year\t|Fund\t|Budget Category\t|Impact Area\t|Outcome Area\t|Population Group\t|SDG\t|Budget Situation\t|Organizational Marker\t|Project Organization\t|Level 1\t|Region\t|Sub region\t|Operation\t|Country\t|Accounting Date\t|Amount|\n",
        "|------\t|------\t|------\t|------\t|------\t|------\t|------\t|------\t|------\t|------\t|------\t|------\t|------\t|------\t|------\t|------\t|------\t|------\t|------\t|------\t|------|\n",
        "|E1\t|2023-AFG ABC-ABOD-33021|\t|100|\t|621110 STF-Salary|\t|2023|\t|110|\t|ABOD|\t|0|\t|0|\t|0|\t|0|\t|0|\t|0|\t|Afghanistan, Kabul (33021)|\t|Field Operations (PFI)|\t|Asia and the Pacific (RASO)|\t|South-West Asia (SSWASIA)|\t|Afghanistan ABC (OAFG_ABC)|\t|Afghanistan|\t|44946|\t|0|\n",
        "|E2\t|2023-AFG ABC-ABOD-33021\t|100\t|621110 STF-Salary\t|2023\t|110\t|ABOD\t|0\t|0\t|0\t|0\t|0\t|0\t|Afghanistan, Kabul (33021)\t|Field Operations (PFI)\t|Asia and the Pacific (RASO)\t|South-West Asia (SSWASIA)\t|Afghanistan ABC (OAFG_ABC)\t|Afghanistan\t|44946\t|0|\n",
        "</div>\n",
        "\n",
        "## Fund\n",
        "Fund data has been created by combining data from following sources:\n",
        "-  **CRM Contribution Details**\n",
        "-  **ERP Contract Information**\n",
        "-  **ERP Contract Project Information**\n",
        "-  **ERP Revenue Details**\n",
        "\n",
        "It shows the values related to Results Based Management (RBM), Earmarking Details and other Strategic Framework dimensions against each expense line.\n",
        "*Fund Id* has been added additionally for ease of validation of Funding Allocation results.\n",
        "\n",
        "<div style=\"font-size: 10px;background-color: #f2f2f2; width: 1200px; height: 200px; overflow: auto;\">\n",
        "\n",
        "|Fund Id\t|Project Name\t|Project Start Date\t|Project Finish Date\t|Earmarking Level\t|Earmarking Type\t|Budget Year\t|Fund\t|Budget Category\t|Impact Area\t|Outcome Area\t|Population Group\t|SDG\t|Budget Situation\t|Organizational Marker\t|Organization\t|Level 1\t|Region\t|Sub region\t|Operation\t|Country\t|Output\t|Fundraising Situation\t|HCR_Carry_Over\t|ABOD Amount\t|Total Amount\t|Amount|\n",
        "|------\t|------\t|------\t|------\t|------\t|------\t|------\t|------\t|------\t|------\t|------\t|------\t|------\t|------\t|------\t|------\t|------\t|------\t|------\t|------\t|------\t|------\t|------\t|------\t|------\t|------\t|------|\n",
        "|F143\t|18-GOV-GB-001-02-125\t|43405\t|46022\t|Tightly Earmarked\t|Within_Operation\t|2023\t|110\t|0\t|IA1: Protect\t|OA1: Access/Doc\t|1\t|\t|\t|\t|Kenya, Dadaab (12083)\t|Field Operations (PFI)\t|East Horn and Great Lakes (REHAGL)\t|East Horn and Great Lakes (SEHAGL)\t|Kenya ABC (OKEN_ABC)\t|Kenya\t|\t|\t|Allow Carry Over\t|7000\t|138064.51\t|131064.51|\n",
        "|F144\t|18-GOV-GB-001-02-126\t|43405\t|46022\t|Tightly Earmarked\t|Within_Operation\t|2023\t|110\t|0\t|IA2: Assist\t|OA4: GBV\t|1\t|\t|\t|\t|Kenya, Dadaab (12083)\t|Field Operations (PFI)\t|East Horn and Great Lakes (REHAGL)\t|East Horn and Great Lakes (SEHAGL)\t|Kenya ABC (OKEN_ABC)\t|Kenya\t|\t|\t|Allow Carry Over\t|3500\t|69032.26\t|65532.26|\n",
        "\n",
        "</div>\n",
        "\n"
      ]
    },
    {
      "cell_type": "code",
      "execution_count": 13,
      "id": "4d84cde2",
      "metadata": {
        "id": "4d84cde2"
      },
      "outputs": [],
      "source": [
        "# Read data\n",
        "m_expense_data = pd.read_excel(\"Workbook v4.xlsx\", sheet_name='Expense', engine='openpyxl')\n",
        "m_fund_data = pd.read_excel(\"Workbook v4.xlsx\", sheet_name='Fund', engine='openpyxl')"
      ]
    },
    {
      "cell_type": "markdown",
      "id": "2bd7e0ef",
      "metadata": {},
      "source": [
        "#Gurobi Model Initialization\n",
        "Forinitializing a new model of Gurobi of the name \"funding_allocation\" and environment parameter of name \"env\".\n",
        "\n",
        "A model object in Gurobi has some standard methods that we will use in the code. \n",
        "-  **model.optimize()** - This method will solve the model and return the status of the model.\n",
        "-  **model.addVars()** - This method will add multiple variables to the model.\n",
        "-  **model.addConstrs()** - This method will add multiple constraints to the model."
      ]
    },
    {
      "cell_type": "code",
      "execution_count": 14,
      "id": "df1125cd",
      "metadata": {
        "id": "df1125cd"
      },
      "outputs": [],
      "source": [
        "# Create a Gurobi model\n",
        "model = gp.Model(\"funding_allocation\", env=env)"
      ]
    },
    {
      "cell_type": "code",
      "execution_count": 15,
      "id": "kKtMwLCMYU9W",
      "metadata": {
        "id": "kKtMwLCMYU9W"
      },
      "outputs": [],
      "source": [
        "pd.options.display.float_format = '{:,.2f}'.format"
      ]
    },
    {
      "cell_type": "code",
      "execution_count": 16,
      "id": "wKWBTSoHWUGi",
      "metadata": {
        "colab": {
          "base_uri": "https://localhost:8080/"
        },
        "id": "wKWBTSoHWUGi",
        "outputId": "173eb8ad-494b-4f71-e2ee-2e24d619bf62"
      },
      "outputs": [
        {
          "name": "stdout",
          "output_type": "stream",
          "text": [
            "Total 2023 Expense: 944,631,722.71\n",
            "\n",
            "\n",
            "Budget Category\n",
            "ABOD    109,770,309.14\n",
            "JPO       1,822,892.09\n",
            "OPS     401,779,773.47\n",
            "STAFF   431,258,748.01\n",
            "Name: Amount, dtype: float64\n",
            "\n",
            "\n",
            "\n",
            "Total 2023 Fund: 1,225,949,878.35\n",
            "\n",
            "\n",
            "Earmarking Level\n",
            "Earmarked           357,811,840.82\n",
            "Softly Earmarked    154,105,759.38\n",
            "Tightly Earmarked   370,020,971.00\n",
            "Unearmarked         344,011,307.15\n",
            "Name: Amount, dtype: float64\n",
            "\n",
            "\n"
          ]
        }
      ],
      "source": [
        "print(\"Total 2023 Expense:\",f\"{m_expense_data[m_expense_data['Budget Year'] == 2023]['Amount'].sum():,.2f}\")\n",
        "print(\"\\n\")\n",
        "print(m_expense_data[m_expense_data['Budget Year'] == 2023].groupby(by='Budget Category')['Amount'].sum())\n",
        "print(\"\\n\\n\")\n",
        "print(\"Total 2023 Fund:\", f\"{m_fund_data[m_fund_data['Budget Year'] == 2023]['Amount'].sum():,.2f}\")\n",
        "print(\"\\n\")\n",
        "print(m_fund_data[m_fund_data['Budget Year'] == 2023].groupby(by='Earmarking Level')['Amount'].sum())\n",
        "print(\"\\n\")"
      ]
    },
    {
      "cell_type": "markdown",
      "id": "ImMKn4xF2B9i",
      "metadata": {
        "id": "ImMKn4xF2B9i"
      },
      "source": [
        "# Data Preparation\n",
        "\n",
        "## Selecting Data\n",
        "Following filters are applied to the source data:\n",
        "-  **Year** For funding allocation, only the expense and fund data assigned to the year 2023 has been selected. \n",
        "-  **Non Negative** For this excericse, only the expense and fund data with non-negative amount has been selected.\n",
        "\n",
        "## Adding Overhead Fund Lines\n",
        "\n",
        "For each fund line, there may be an assigned value of fund that is charged to donor for administrative purposes. Original contribution is recorded with total amount and the amount that can be spent for administrative purposes. \n",
        "We add new fund rows to the source fund data where the fund amount is equal to the overhead amount and earmarking level is set to unearmarked. Setting earmarking level to unearmarked will help in getting using the corresponding fund lines for ABOD and Staff budget category cost."
      ]
    },
    {
      "cell_type": "code",
      "execution_count": 17,
      "id": "Csmy7Feopbrk",
      "metadata": {
        "colab": {
          "base_uri": "https://localhost:8080/"
        },
        "id": "Csmy7Feopbrk",
        "outputId": "3fd32b99-a351-4c61-f38a-685ac3d83063"
      },
      "outputs": [
        {
          "name": "stdout",
          "output_type": "stream",
          "text": [
            "(2386, 27)\n",
            "(347587, 21)\n",
            "(4772, 27)\n",
            "Total in n_Fund: 1,543,412,988.72\n",
            "\n",
            "\n",
            "Earmarking Level\n",
            "Earmarked           435,162,078.53\n",
            "Softly Earmarked    217,955,697.22\n",
            "Tightly Earmarked   474,180,796.32\n",
            "Unearmarked         344,011,307.15\n",
            "Name: Amount, dtype: float64\n",
            "\n",
            "\n",
            "Total in extended Fund: 1,543,412,988.72\n",
            "\n",
            "\n",
            "Earmarking Level\n",
            "Earmarked           435,162,078.53\n",
            "Softly Earmarked    217,955,697.22\n",
            "Tightly Earmarked   474,180,796.32\n",
            "Unearmarked         416,114,416.65\n",
            "Name: Amount, dtype: float64\n",
            "\n",
            "\n"
          ]
        }
      ],
      "source": [
        "#select data only from current year and greater than zero\n",
        "n_fund_data = m_fund_data[(m_fund_data['Amount'] > 0) & (m_fund_data['Budget Year'] == 2023)]\n",
        "n_expense_data = m_expense_data[(m_expense_data['Amount'] > 0) & (m_expense_data['Budget Year'] == 2023)]\n",
        "\n",
        "print(n_fund_data.shape)\n",
        "print(n_expense_data.shape)\n",
        "\n",
        "# create unearmarked values from the funds based on ABOD amount\n",
        "# 1: Create a copy of the fund_data\n",
        "new_rows = n_fund_data.copy()\n",
        "\n",
        "# 2: Modify the copied data based on the conditions so that new unearmarked rows are created for the overhead amounts\n",
        "new_rows['Earmarking Level'] = 'Unearmarked'\n",
        "new_rows['Earmarking Type'] = 'Unearmarked'\n",
        "new_rows['Fund Id'] = new_rows['Fund Id'] + '_1'\n",
        "new_rows['Impact Area'] = None\n",
        "new_rows['Outcome Area'] = None\n",
        "new_rows['Population Group'] = None\n",
        "new_rows['SDG'] = None\n",
        "new_rows['Budget Situation'] = None\n",
        "new_rows['Organizational Marker'] = None\n",
        "new_rows['Organization'] = None\n",
        "new_rows['Level 1'] = 'Headquarters and Global Programmes (PHQGLO)'\n",
        "new_rows['Region'] = None\n",
        "new_rows['Sub region'] = None\n",
        "new_rows['Operation'] = None\n",
        "new_rows['Country'] = None\n",
        "new_rows['Output'] = None\n",
        "new_rows['Fundraising Situation'] = None\n",
        "new_rows['Total Amount'] = new_rows['ABOD Amount']\n",
        "new_rows['Amount'] = new_rows['ABOD Amount']\n",
        "new_rows['ABOD Amount'] = 0\n",
        "\n",
        "# 3: Concatenate the original fund data and the new rows data\n",
        "extended_fund_data = pd.concat([n_fund_data, new_rows], axis=0).reset_index(drop=True)\n",
        "\n",
        "print(extended_fund_data.shape)\n",
        "\n",
        "print(\"Total in n_Fund:\", f\"{n_fund_data['Total Amount'].sum():,.2f}\")\n",
        "print(\"\\n\")\n",
        "print(n_fund_data.groupby(by='Earmarking Level')['Amount'].sum())\n",
        "print(\"\\n\")\n",
        "print(\"Total in extended Fund:\", f\"{extended_fund_data['Amount'].sum():,.2f}\")\n",
        "print(\"\\n\")\n",
        "print(extended_fund_data.groupby(by='Earmarking Level')['Amount'].sum())\n",
        "print(\"\\n\")"
      ]
    },
    {
      "cell_type": "markdown",
      "id": "9fdba7bd",
      "metadata": {},
      "source": [
        "# Sample Data Creation\n",
        "\n",
        "## Data Volume\n",
        "The following data preparation steps has been performed:\n",
        "-  Filter for one year\n",
        "-  Removing negative amounts\n",
        "-  Adding overhead fund lines\n",
        "\n",
        "Post these steps the data volume is as follows:\n",
        "-  Fund Data 4772 rows and 27 columns\n",
        "-  Expense Data  347587 rows and  21 columns\n",
        "\n",
        "Gurobi creates the variable and constraints data based on following logic\n",
        "1.   Number of columns: number of rows in Fund * number of rows in expense\n",
        "2.   Number of rows: sum of number of constraints = Fund constraints from General constraints + Expense rows from general constraints\n",
        "\n",
        "This creates very large matrix that cannot be solved using the local machine or platforms such as Google Colab pro+. \n",
        "\n",
        "## Sample Data\n",
        "The sample data is created using following logic.\n",
        "-  A percentage is entered for the total amount of fund and expense data to be used for the sample data.\n",
        "-  The sample data is created by randomly selecting the rows from the source data based on the percentage entered.\n",
        "-  For fund data the percentage of amounts by earmarking level is kept same as that of source data\n",
        "-  For expsne data the percentage of amounts by budget category is kept same as the of source data\n",
        "\n"
      ]
    },
    {
      "cell_type": "code",
      "execution_count": 18,
      "id": "b868979c",
      "metadata": {
        "colab": {
          "base_uri": "https://localhost:8080/"
        },
        "id": "b868979c",
        "outputId": "d31de368-1056-4954-ec7b-02ee184da7dd"
      },
      "outputs": [
        {
          "name": "stdout",
          "output_type": "stream",
          "text": [
            "(369, 27) 78,890,898.89\n",
            "(16763, 21) 128,626,525.77\n",
            "\n",
            "\n",
            "Earmarking Level\n",
            "Earmarked           23,633,947.16\n",
            "Softly Earmarked    11,954,786.63\n",
            "Tightly Earmarked   25,920,888.36\n",
            "Unearmarked         17,381,276.74\n",
            "Name: Amount, dtype: float64\n",
            "\n",
            "\n",
            "Budget Category\n",
            "ABOD    28,436,437.26\n",
            "JPO        105,602.51\n",
            "OPS     75,184,231.81\n",
            "STAFF   24,900,254.19\n",
            "Name: Amount, dtype: float64\n",
            "\n",
            "\n"
          ]
        }
      ],
      "source": [
        "def optimized_random_sample_rows(group):\n",
        "    desired_sum = external_desired_sums[group.name]\n",
        "\n",
        "    # Early exit if group's total amount is below desired sum\n",
        "    if group['Amount'].sum() <= desired_sum:\n",
        "        return group\n",
        "\n",
        "    indices_chosen = set()\n",
        "    cumulative_sum = 0\n",
        "    available_indices = set(group.index)\n",
        "\n",
        "    while cumulative_sum < desired_sum and available_indices:\n",
        "        batch_size = max(1, int(0.05 * len(available_indices)))  # Sample 5% of available indices\n",
        "        sampled_indices = np.random.choice(list(available_indices), size=batch_size, replace=False)\n",
        "\n",
        "        for idx in sampled_indices:\n",
        "            cumulative_sum += group.loc[idx, 'Amount']\n",
        "            indices_chosen.add(idx)\n",
        "            available_indices.remove(idx)  # Efficiently remove index from set\n",
        "\n",
        "            if cumulative_sum >= desired_sum:\n",
        "                break\n",
        "\n",
        "    return group.loc[list(indices_chosen)]\n",
        "\n",
        "fund_sample_fraction = .05\n",
        "external_desired_sums = n_fund_data.groupby('Earmarking Level')['Amount'].sum() * fund_sample_fraction\n",
        "fund_data = extended_fund_data.groupby('Earmarking Level').apply(optimized_random_sample_rows).reset_index(drop=True)\n",
        "print(fund_data.shape, f\"{fund_data['Amount'].sum():,.2f}\")\n",
        "\n",
        "expense_sample_fraction = .05\n",
        "external_desired_sums = n_expense_data.groupby('Budget Category')['Amount'].sum() * expense_sample_fraction\n",
        "expense_data = n_expense_data.groupby('Budget Category').apply(optimized_random_sample_rows).reset_index(drop=True)\n",
        "print(expense_data.shape, f\"{expense_data['Amount'].sum():,.2f}\")\n",
        "\n",
        "print(\"\\n\")\n",
        "print(fund_data.groupby(by='Earmarking Level')['Amount'].sum())\n",
        "print(\"\\n\")\n",
        "print(expense_data.groupby(by='Budget Category')['Amount'].sum())\n",
        "print(\"\\n\")\n"
      ]
    },
    {
      "cell_type": "markdown",
      "id": "63ff11aa",
      "metadata": {},
      "source": [
        "# Decision Variables\n",
        "Decision variables capture the result of the optmization. In a feasible solution, the computed values for the decision variables satisfy all of the model constraints. Some of these constraints are associated with individual variables (e.g., variable bounds), while others capture relationships between variables.\n",
        "\n",
        "## Funding Allocation Variables\n",
        "\n",
        "The decision variables are formally defined as:\n",
        "\n",
        "$$ x(i,j) \\quad \\text{for all } i \\in \\text{Funds} \\text{ and } j \\in \\text{Expenses} $$\n",
        "\n",
        "The decision variables for the optimization model represent the allocation of funds from a specific source \\( i \\) to a particular expense \\( j \\). These variables are indexed by pairs \\((i, j)\\), where \\( i \\) ranges over all fund sources and \\( j \\) ranges over all expenses.\n",
        "\n",
        "**decision_var_indices** is a list of tuples where each tuple contains two integers:\n",
        "-  i: index from fund data\n",
        "-  j: index from expense data\n",
        "This variable can take any continuos value between its lower and upper bound. \n",
        "\n",
        "**min_amounts** is a numpy array that captures the minimum value from each combination of fund and expense data. It's shape is fund row count * expense row count\n",
        "\n",
        "**ub_values** ** is a numpy array that stores minimum amounts in the form of a 1D array."
      ]
    },
    {
      "cell_type": "code",
      "execution_count": 19,
      "id": "0359f64e",
      "metadata": {
        "colab": {
          "base_uri": "https://localhost:8080/"
        },
        "id": "0359f64e",
        "outputId": "77053828-5905-4e9a-9aa1-bb2a627d966c"
      },
      "outputs": [
        {
          "name": "stdout",
          "output_type": "stream",
          "text": [
            "Total number of decision variables: 6185547\n"
          ]
        }
      ],
      "source": [
        "# Convert the Amount columns to numpy arrays for faster access\n",
        "fund_amounts = fund_data[\"Amount\"].values\n",
        "expense_amounts = expense_data[\"Amount\"].values\n",
        "\n",
        "# Precompute the minimum amounts using numpy's outer function, which applies a function on all pairs of values from two arrays\n",
        "min_amounts = np.minimum.outer(fund_amounts, expense_amounts)\n",
        "\n",
        "# Calculate the total number of decision variables needed\n",
        "total_vars = len(fund_data) * len(expense_data)\n",
        "print(f\"Total number of decision variables: {total_vars}\")\n",
        "\n",
        "# Create a flat list of variable names\n",
        "decision_var_indices = [(i, j) for i in range(len(fund_data)) for j in range(len(expense_data))]\n",
        "\n",
        "# Flatten the min_amounts matrix for direct usage\n",
        "ub_values = min_amounts.ravel()\n",
        "\n"
      ]
    },
    {
      "cell_type": "markdown",
      "id": "a1de1281",
      "metadata": {},
      "source": [
        "# Adding Variables to model\n",
        "addVars stores the decision variables in the form of tupledict\n",
        "-  **tupledict:** In particular, a tupledict is a Python dict where the keys are stored as a Gurobi tuplelist, and where the values are typically Gurobi Var objects.\n",
        "## Parameters of addVars\n",
        "-  **decision_var_indices:** decision_var_indices provides indices that is used as keys to access the variables. \n",
        "-  **VType:** Variable type ('C' for continuous, 'B' for binary, 'I' for integer, 'S' for semi-continuous, or 'N' for semi-integer). \n",
        "-  **lb:** Lower Bound is zero. This is an assumption made in this model that it does not cover negative transfer of fund to expense.\n",
        "-  **ub:** Upper bound is based on ub_values which was calculated in previous cell"
      ]
    },
    {
      "cell_type": "code",
      "execution_count": 20,
      "id": "e94cf680",
      "metadata": {
        "id": "e94cf680"
      },
      "outputs": [],
      "source": [
        "x = model.addVars(decision_var_indices, vtype=gp.GRB.CONTINUOUS, lb=0, ub=ub_values, name=\"x\")"
      ]
    },
    {
      "cell_type": "markdown",
      "id": "10b75c09",
      "metadata": {},
      "source": [
        "#### Pandas to numpy conversion\n",
        "Converting the columns used for writing constraints as numpy arrays instead of trying to access them as pandas column using iloc."
      ]
    },
    {
      "cell_type": "code",
      "execution_count": 21,
      "id": "af520226",
      "metadata": {
        "id": "af520226"
      },
      "outputs": [],
      "source": [
        "# Convert each column of expense_data to a numpy array\n",
        "expense_budget_year = expense_data[\"Budget Year\"].values\n",
        "expense_fund = expense_data[\"Fund\"].values\n",
        "expense_budget_category = expense_data[\"Budget Category\"].values\n",
        "expense_impact_area = expense_data[\"Impact Area\"].values\n",
        "expense_outcome_area = expense_data[\"Outcome Area\"].values\n",
        "expense_population_group = expense_data[\"Population Group\"].values\n",
        "expense_sdg = expense_data[\"SDG\"].values\n",
        "expense_budget_situation = expense_data[\"Budget Situation\"].values\n",
        "expense_organizational_marker = expense_data[\"Organizational Marker\"].values\n",
        "expense_project_organization = expense_data[\"Project Organization\"].values\n",
        "expense_level_1 = expense_data[\"Level 1\"].values\n",
        "expense_region = expense_data[\"Region\"].values\n",
        "expense_sub_region = expense_data[\"Sub region\"].values\n",
        "expense_operation = expense_data[\"Operation\"].values\n",
        "expense_country = expense_data[\"Country\"].values"
      ]
    },
    {
      "cell_type": "code",
      "execution_count": 22,
      "id": "dbf13999",
      "metadata": {
        "id": "dbf13999"
      },
      "outputs": [],
      "source": [
        "# Convert each column of fund_data to a numpy array\n",
        "fund_earmarking_level = fund_data[\"Earmarking Level\"].values\n",
        "fund_earmarking_type = fund_data[\"Earmarking Type\"].values\n",
        "fund_budget_year = fund_data[\"Budget Year\"].values\n",
        "fund_fund = fund_data[\"Fund\"].values\n",
        "fund_budget_category = fund_data[\"Budget Category\"].values\n",
        "fund_impact_area = fund_data[\"Impact Area\"].values\n",
        "fund_outcome_area = fund_data[\"Outcome Area\"].values\n",
        "fund_population_group = fund_data[\"Population Group\"].values\n",
        "fund_sdg = fund_data[\"SDG\"].values\n",
        "fund_budget_situation = fund_data[\"Budget Situation\"].values\n",
        "fund_organizational_marker = fund_data[\"Organizational Marker\"].values\n",
        "fund_level_1 = fund_data[\"Level 1\"].values\n",
        "fund_region = fund_data[\"Region\"].values\n",
        "fund_sub_region = fund_data[\"Sub region\"].values\n",
        "fund_operation = fund_data[\"Operation\"].values\n",
        "fund_country = fund_data[\"Country\"].values\n",
        "fund_output = fund_data[\"Output\"].values\n",
        "fund_fundraising_situation = fund_data[\"Fundraising Situation\"].values\n",
        "fund_hcr_carry_over = fund_data[\"HCR_Carry_Over\"].values\n",
        "fund_abod_amount = fund_data[\"ABOD Amount\"].values\n"
      ]
    },
    {
      "cell_type": "markdown",
      "id": "ed6007ce",
      "metadata": {},
      "source": [
        "## Priority\n",
        "Setting priority of the funding allocation so that Tightly earmarked has highest priority and Unearmard as lowest prioruty"
      ]
    },
    {
      "cell_type": "code",
      "execution_count": 23,
      "id": "5305bf16",
      "metadata": {
        "id": "5305bf16"
      },
      "outputs": [],
      "source": [
        "priority = {\n",
        "    \"Tightly Earmarked\": 4,\n",
        "    \"Earmarked\": 3,\n",
        "    \"Softly Earmarked\": 2,\n",
        "    \"Unearmarked\": 1\n",
        "}\n"
      ]
    },
    {
      "cell_type": "markdown",
      "id": "70d158f8",
      "metadata": {},
      "source": [
        "# Objective Function\n",
        "\n",
        "The optimization model aims to maximize a weighted sum of allocations, where each allocation corresponds to directing funds from a specific source to a particular expense. The weights are determined based on the earmarking level of the funds. A dictionary, `priority`, provides these weights for each unique earmarking level.\n",
        "\n",
        "The objective function is given by:\n",
        "\n",
        "$$\\text{Objective} = \\sum_i \\sum_j \\text{weight}[i] \\times x[i,j]$$\n",
        "\n",
        "Where:\n",
        "- \\( x[i, j] \\) represents the allocation from the \\(i\\)-th fund to the \\(j\\)-th expense.\n",
        "- The `weight_vector` provides the weight for each fund, and it's constructed using the `priority` dictionary and the `fund_earmarking_level` array.\n",
        "\n",
        "The model seeks to maximize this objective, ensuring that funds are allocated in a manner that prioritizes certain earmarking levels over others based on the given weights.\n",
        "\n"
      ]
    },
    {
      "cell_type": "code",
      "execution_count": 24,
      "id": "02042e27",
      "metadata": {
        "id": "02042e27"
      },
      "outputs": [],
      "source": [
        "  # 1. Vectorized weight calculation\n",
        "  weights = np.array([priority[key] for key in np.unique(fund_earmarking_level)])\n",
        "  weight_vector = weights[np.searchsorted(np.unique(fund_earmarking_level), fund_earmarking_level)]\n",
        "\n",
        "  # Create an objective expression using the precomputed weight_vector and string names as indices\n",
        "  obj_expr = gp.quicksum(weight_vector[i] * x[i, j] for i in range(len(fund_data)) for j in range(len(expense_data)))\n",
        "\n",
        "  # Set the objective\n",
        "  model.setObjective(obj_expr, gp.GRB.MAXIMIZE)\n",
        "\n"
      ]
    },
    {
      "cell_type": "markdown",
      "id": "972577c4",
      "metadata": {},
      "source": [
        "# Constraints\n",
        "There are three types of constraints that we have built into this model.\n",
        "-  General Constraints\n",
        "-  Earmarking Constraints\n",
        "-  Overhead Cost to Fund Matching Constraints\n",
        "-  Matching amount constraints\n",
        "\n",
        "### Constraints Defined in Functions:\n",
        "\n",
        "#### 1. `General Constraints`:\n",
        "\n",
        "-  **Description**: \n",
        "    - This constraint ensures that the budget year of a fund source \\(i\\) matches the budget year of an expense \\(j\\), and the fund type of the fund source \\(i\\) matches the fund type of the expense \\(j\\).\n",
        "- **Mathematical Representation**:\n",
        "    $$\n",
        "    \\text{if } \\text{fund\\_budget\\_year}[i] \\neq \\text{expense\\_budget\\_year}[j] \\text{ or fund\\_fund}[i] \\neq \\text{expense\\_fund}[j] \\text{, then } x(i,j) = 0\n",
        "    $$\n",
        "- **Gurobi Constraint Type**: \n",
        "    - This is a **Linear Constraint** (`addLConstr`). The decision variable \\( x(i,j) \\) is set to 0 based on certain conditions.\n",
        "\n",
        "#### 2. `Overhead Constraints`:\n",
        "- **Description**: \n",
        "    - This constraint ensures that certain expense categories (like 'ABOD' and 'STAFF') are only funded using unearmarked funds or funds explicitly allocated for those purposes.\n",
        "- **Mathematical Representation**:\n",
        "    $$\n",
        "    \\text{if } \\text{fund\\_earmarking\\_level}[i] \\neq \\text{'Unearmarked'} \\text{ and expense\\_budget\\_category}[j] \\in \\{\\text{'ABOD'}, \\text{'STAFF'}\\} \\text{, then } x(i,j) = 0\n",
        "    $$\n",
        "- **Gurobi Constraint Type**: \n",
        "    - This is a **Linear Constraint** (`addLConstr`). The decision variable \\( x(i,j) \\) is set to 0 based on certain conditions.\n",
        "\n",
        "#### 3. `Earmarking Constraints`:\n",
        "- **Description**: \n",
        "    - This constraint is more complex and involves multiple conditions based on the earmarking level of the fund. It ensures that funds are allocated to expenses based on specific earmarking criteria. The criteria can vary based on the earmarking level (Tightly Earmarked, Earmarked, Softly Earmarked) and can involve checks on multiple attributes like operation, country, region, impact area, etc.\n",
        "- **Mathematical Representation**:\n",
        "    - This function contains multiple conditional checks and returns a boolean value. If the function returns `False`, the corresponding decision variable \\( x(i,j) \\) is set to 0.\n",
        "- **Gurobi Constraint Type**: \n",
        "    - This is a **Linear Constraint** (`addLConstr`). The decision variable \\( x(i,j) \\) is set to 0 based on a comprehensive set of conditions.\n",
        "\n",
        "### 4. `Total Fund Utilization Constraint`:\n",
        "- **Description**: \n",
        "    - For each fund source \\( i \\), the sum of allocations to all expenses should not exceed the original amount of that fund. This ensures that funds are not over-allocated.\n",
        "- **Mathematical Representation**:\n",
        "    - For each fund \\( i \\):\n",
        "    $$\n",
        "    \\sum_{j} x(i,j) \\leq \\text{Amount of Fund } i\n",
        "    $$\n",
        "- **Significance**:\n",
        "    - This constraint ensures that we do not allocate more from a fund than what is available. It guarantees that the solution remains feasible in terms of fund availability.\n",
        "\n",
        "### 5. `Total Expense Matched Constraint (Linear Constraint)`\n",
        "- **Description**: \n",
        "    - For each expense \\( j \\), the sum of allocations from all fund sources should not exceed the amount of that expense. This ensures that expenses are not over-funded.\n",
        "- **Mathematical Representation**:\n",
        "    - For each expense \\( j \\):\n",
        "    $$\n",
        "    \\sum_{i} x(i,j) \\leq \\text{Amount of Expense } j\n",
        "    $$\n",
        "- **Significance**:\n",
        "    - This constraint ensures that an expense does not receive more funds than its actual amount. It ensures that the solution remains feasible in terms of expense requirements.\n"
      ]
    },
    {
      "cell_type": "code",
      "execution_count": 25,
      "id": "bd39df04",
      "metadata": {
        "id": "bd39df04"
      },
      "outputs": [],
      "source": [
        "# General Constraints\n",
        "def general_constraints(i, j):\n",
        "    if fund_budget_year[i] != expense_budget_year[j] or  fund_fund[i] != expense_fund[j]:\n",
        "        return False\n",
        "    else:\n",
        "        return True\n"
      ]
    },
    {
      "cell_type": "code",
      "execution_count": 26,
      "id": "RUznuBH47v28",
      "metadata": {
        "id": "RUznuBH47v28"
      },
      "outputs": [],
      "source": [
        "# Overhead Constraint so that STAFF and ABOD categories are met with unearmarked funds only or with funds allocated for that purpose\n",
        "\n",
        "def overhead_constraints(i, j):\n",
        "  if fund_earmarking_level[i] != 'Unearmarked' and expense_budget_category[j] in ['ABOD', 'STAFF']:\n",
        "    return True\n",
        "  else:\n",
        "    return False"
      ]
    },
    {
      "cell_type": "code",
      "execution_count": 27,
      "id": "b9c14839",
      "metadata": {
        "id": "b9c14839"
      },
      "outputs": [],
      "source": [
        "def xisnan(value):\n",
        "    return value != value\n",
        "\n",
        "def earmarking_constraints(i, j):\n",
        "    if fund_earmarking_level[i] == \"Tightly Earmarked\":\n",
        "        fields_to_match = [\n",
        "            (fund_operation, expense_operation),\n",
        "            (fund_country, expense_country),\n",
        "            (fund_impact_area, expense_impact_area),\n",
        "            (fund_outcome_area, expense_outcome_area)\n",
        "        ]\n",
        "\n",
        "        for fund_value, expense_value in fields_to_match:\n",
        "            if not xisnan(fund_value[i]) and fund_value[i] != expense_value[j]:\n",
        "                return False\n",
        "        return True\n",
        "\n",
        "    elif fund_earmarking_level[i] == \"Earmarked\":\n",
        "        if fund_earmarking_type[i] == \"Operation\":\n",
        "            return fund_country[i] == expense_country[j]\n",
        "        else:\n",
        "            return True\n",
        "\n",
        "    elif fund_earmarking_level[i] == \"Softly Earmarked\":\n",
        "        conditions_map = {\n",
        "            \"Regional_Sub_regional\": (\n",
        "                [fund_region[i], fund_sub_region[i]],\n",
        "                [expense_region[j], expense_sub_region[j]]\n",
        "            ),\n",
        "            \"Budget_Situation\": ([fund_budget_situation[i]], [expense_budget_situation[j]]),\n",
        "            \"Operation\": ([fund_operation[i]], [expense_operation[j]]),\n",
        "            \"Fund Raising Situation AB\": ([fund_fundraising_situation[i]], [expense_budget_situation[j]]),\n",
        "            \"Zakat\": ([fund_outcome_area[i]], [expense_outcome_area[j]]),\n",
        "            \"Thematic\": (\n",
        "                [\n",
        "                    fund_fundraising_situation[i],\n",
        "                    fund_impact_area[i],\n",
        "                    fund_organizational_marker[i],\n",
        "                    fund_outcome_area[i]\n",
        "                ],\n",
        "                [\n",
        "                    expense_budget_situation[j],\n",
        "                    expense_impact_area[j],\n",
        "                    expense_organizational_marker[j],\n",
        "                    expense_outcome_area[j]\n",
        "                ]\n",
        "            )\n",
        "        }\n",
        "\n",
        "        earmarking_type = fund_earmarking_type[i]\n",
        "        if earmarking_type in conditions_map:\n",
        "            fund_values, expense_values = conditions_map[earmarking_type]\n",
        "            for f_val, e_val in zip(fund_values, expense_values):\n",
        "                if not xisnan(f_val) and f_val != e_val:\n",
        "                    return False\n",
        "            return True\n",
        "    return False\n",
        "\n"
      ]
    },
    {
      "cell_type": "code",
      "execution_count": 28,
      "id": "0d8f9a31",
      "metadata": {
        "id": "0d8f9a31"
      },
      "outputs": [],
      "source": [
        "# Step 1: Modify check_constraints\n",
        "def check_constraints(indices):\n",
        "    i, j = indices\n",
        "    try:\n",
        "        if not (general_constraints(i, j) and earmarking_constraints(i, j) and overhead_constraints(i, j)):\n",
        "            return (i, j)\n",
        "    except TypeError:\n",
        "        # Print out the problematic values\n",
        "        print(f\"Error for indices i={i}, j={j}\")\n",
        "        raise  # Raise the error again after printing\n",
        "    return None\n",
        "\n",
        "\n",
        "# Step 2: Filter without parallelization\n",
        "zero_constraints_indices = [idx for idx in decision_var_indices if check_constraints(idx)]\n",
        "\n",
        "# Step 3: Add Constraints to the Model\n",
        "for i, j in zero_constraints_indices:\n",
        "    x[i, j].UB = 0\n"
      ]
    },
    {
      "cell_type": "code",
      "execution_count": 29,
      "id": "vGuNnvVe3pXm",
      "metadata": {
        "id": "vGuNnvVe3pXm"
      },
      "outputs": [],
      "source": [
        "# Constraint 1: Total fund utilized should not be more than fund original amount\n",
        "for i in range(len(fund_data)):\n",
        "    lhs = gp.LinExpr()  # Create a linear expression for the left-hand side\n",
        "    lhs.addTerms([1.0] * len(expense_data), [x[i, j] for j in range(len(expense_data))])\n",
        "    model.addLConstr(lhs <= fund_data.loc[i, \"Amount\"])\n",
        "\n",
        "# Constraint 2: Total expense matched should not be more than expense amount\n",
        "for j in range(len(expense_data)):\n",
        "    lhs = gp.LinExpr()  # Create a linear expression for the left-hand side\n",
        "    lhs.addTerms([1.0] * len(fund_data), [x[i, j] for i in range(len(fund_data))])\n",
        "    model.addLConstr(lhs <= expense_data.loc[j, \"Amount\"])\n"
      ]
    },
    {
      "cell_type": "code",
      "execution_count": 30,
      "id": "YCOqSDd0ogwc",
      "metadata": {
        "id": "YCOqSDd0ogwc"
      },
      "outputs": [],
      "source": [
        "# Define the optimization progress callback function\n",
        "iter_data = []\n",
        "\n",
        "def optimization_progress(model, where):\n",
        "    if where == gp.GRB.Callback.MIP:\n",
        "        objbst = model.cbGet(gp.GRB.Callback.MIP_OBJBST)\n",
        "        objbnd = model.cbGet(gp.GRB.Callback.MIP_OBJBND)\n",
        "        runtime = model.cbGet(gp.GRB.Callback.RUNTIME)\n",
        "        nodes = int(model.cbGet(gp.GRB.Callback.MIP_NODCNT))\n",
        "        solcnt = int(model.cbGet(gp.GRB.Callback.MIP_SOLCNT))\n",
        "        iter_data.append((runtime, nodes, solcnt, objbst, objbnd))\n"
      ]
    },
    {
      "cell_type": "code",
      "execution_count": 31,
      "id": "eedada77",
      "metadata": {
        "id": "eedada77"
      },
      "outputs": [
        {
          "name": "stdout",
          "output_type": "stream",
          "text": [
            "Gurobi Optimizer version 10.0.2 build v10.0.2rc0 (mac64[rosetta2])\n",
            "\n",
            "CPU model: Apple M1\n",
            "Thread count: 8 physical cores, 8 logical processors, using up to 8 threads\n",
            "\n",
            "Academic license - for non-commercial use only - registered to 2021fc04625@wilp.bits-pilani.ac.in\n",
            "Optimize a model with 17132 rows, 6185547 columns and 12371094 nonzeros\n",
            "Model fingerprint: 0x6fefd070\n",
            "Coefficient statistics:\n",
            "  Matrix range     [1e+00, 1e+00]\n",
            "  Objective range  [1e+00, 4e+00]\n",
            "  Bounds range     [1e-02, 1e+06]\n",
            "  RHS range        [1e-02, 2e+07]\n",
            "Presolve removed 4215 rows and 5939592 columns\n",
            "Presolve time: 2.48s\n",
            "Presolved: 12917 rows, 245955 columns, 490635 nonzeros\n",
            "\n",
            "Concurrent LP optimizer: primal simplex, dual simplex, and barrier\n",
            "Showing barrier log only...\n",
            "\n",
            "Ordering time: 0.00s\n",
            "\n",
            "Barrier statistics:\n",
            " AA' NZ     : 1.926e+05\n",
            " Factor NZ  : 2.182e+05 (roughly 80 MB of memory)\n",
            " Factor Ops : 5.318e+06 (less than 1 second per iteration)\n",
            " Threads    : 6\n",
            "\n",
            "Barrier performed 0 iterations in 2.98 seconds (3.03 work units)\n",
            "Barrier solve interrupted - model solved by another algorithm\n",
            "\n",
            "\n",
            "Solved with primal simplex\n",
            "\n",
            "Use crossover to convert LP symmetric solution to basic solution...\n",
            "Crossover log...\n",
            "\n",
            "       0 DPushes remaining with DInf 0.0000000e+00                 3s\n",
            "\n",
            "     209 PPushes remaining with PInf 0.0000000e+00                 3s\n",
            "       0 PPushes remaining with PInf 0.0000000e+00                 3s\n",
            "\n",
            "  Push phase complete: Pinf 0.0000000e+00, Dinf 0.0000000e+00      3s\n",
            "\n",
            "Iteration    Objective       Primal Inf.    Dual Inf.      Time\n",
            "    4154    3.9828985e+07   0.000000e+00   0.000000e+00      4s\n",
            "\n",
            "Solved in 4154 iterations and 4.32 seconds (3.54 work units)\n",
            "Optimal objective  3.982898515e+07\n"
          ]
        }
      ],
      "source": [
        "model.update()\n",
        "\n",
        "# Optimize and display results\n",
        "model.optimize()"
      ]
    },
    {
      "cell_type": "markdown",
      "id": "3iBPm-VpGSDx",
      "metadata": {
        "id": "3iBPm-VpGSDx"
      },
      "source": [
        "# Rows and columns in model\n",
        "\n",
        "\n",
        "1.   **Number of columns:** number of rows in Fund * number of rows in expense\n",
        "2.   **Number of rows:** sum of number of constraints = Fund constraints from General constraints + Expense rows from general constraints\n",
        "\n",
        "# Coefficient Statistics\n",
        "\n",
        "\n",
        "1.   **Matrix range:** Refers to the range of coefficients in the constraint matrix A of the LP/MIP.\n",
        "[1e+00, 1e+00] means that all the non-zero coefficients in the constraint matrix are equal to 1.0. This is consistent with this model where we are adding allocations and ensuring they don't exceed certain values. The coefficients for decision variables in these constraints are 1.\n",
        "2.   **Objective range:** Refers to the range of coefficients in the objective function. [1e+00, 4e+00] indicates that the smallest and largest coefficients in the objective function are 1.0 and 4.0, respectively.\n",
        "3. **Bounds range:** Refers to the range of variable bounds in the LP/MIP. These are the lower and upper bounds on the decision variables.\n",
        "[1e-02, 7e+06] means that the smallest bound on any variable is 1 and the largest bound is 7,000,000.\n",
        "4. **RHS range:** Refers to the range of values on the right-hand side (RHS) of the constraints.\n",
        "[1e-02, 2e+08] indicates that the smallest RHS value in your constraints is 0.01 and the largest is 200,000,000.\n",
        "\n",
        "\n",
        "# Concurrent LP Optimizer\n",
        "Gurobi tries multiple optimizers at the same time. For this scenario it has used:\n",
        "\n",
        "\n",
        "1.   Dual Simplex is a variation of simplex where...\n",
        "2.   Barrier method: Instead of moving along the edges of the feasible region (as the simplex methods do), the barrier method moves through the interior of the feasible region.\n",
        "\n",
        "# Barrier Statistics\n",
        "\n",
        "\n",
        "1.   **AA' NZ:** This refers to the number of non-zero (NZ) entries in the matrix product AA', where A is the constraint matrix of the LP. The matrix AA' is a key component in the barrier method. Its sparsity (i.e., the number of non-zero entries) can affect the computational efficiency of the method. AA' is 1.307*10^6 non-zero entries.\n",
        "2.   **Factor NZ:**This refers to the number of non-zero entries in the factorization of the matrix AA'.Factorizing this matrix is a critical step in each iteration of the barrier method. The value indicates that there are 1.762*10^6 on-zero entries in the factorization, and this factorization requires roughly 600 MB of memory.\n",
        "3. **Factor Ops:** This represents the number of operations (Ops) required to factorize the matrix AA'. The efficiency of the factorization step can significantly affect the overall efficiency of the barrier method. In your output, it takes\n",
        "9.153*10^7 operations to factorize the matrix, which is estimated to be less than 1 second per iteration.\n",
        "4. **Threads:** This indicates the number of computational threads used by Gurobi during the barrier method. Using multiple threads allows Gurobi to perform certain calculations in parallel, potentially speeding up the solution process. In your case, Gurobi is using 3 threads.\n",
        "\n",
        "# Iteration Log\n",
        "Following table is an example of iteration log displayed.\n",
        "\n",
        "|          |Objective |          |   Residual|          |      |       |\n",
        "|:--------:|:--------:|:---------:|:--------:|--------:|:----:|------:|\n",
        "| Iter     | Primal   | Dual     | Primal    | Dual   | Compl | Time |\n",
        "|  0.      |  4.99797814e+12    |  9.61411444e+08 |3.76e+09 |2.16e+01|2.81e+06|26s|\n",
        "|  16  |  9.89618083e+08  |9.89618083e+08|2.85e-07 | 1.07e-14 | 4.14e-10 | 31s |\n",
        "\n",
        "\n",
        "\n",
        "\n",
        "\n",
        "1.   **Iter:** Column displays iteration number.\n",
        "2.   **Primal Objective:** Current value of primal objective function.\n",
        "3. **Dual Objective:** Current value of dual objective function.\n",
        "4. **Primal Residual:**  It shows primal feasibility residual. It measures how close the current solution is to satisfying all the constraints of the primal problem. A value of zero would mean that all constraints are satisfied.\n",
        "5. **Dual Residual:** Refers to the dual feasibility residual. It measures how close the current dual solution is to satisfying all the constraints of the dual problem.\n",
        "6. **Compl:**  This column represents the duality gap, also known as the complementarity gap. It's a measure of the difference between the primal and dual objective values. A smaller duality gap indicates that the solution is closer to optimality. The algorithm aims to reduce this gap with each iteration.\n",
        "\n",
        "# Crossover\n",
        "\n",
        "## Barrier Method\n",
        "Barrier Method and its Output:\n",
        "The barrier method, as we've discussed, is an interior-point method. It finds a solution that typically lies in the \"interior\" of the feasible region, rather than at a vertex (corner point) of the feasible region. While this is mathematically valid and gives the correct objective value, many applications and users expect solutions that are basic feasible solutions (BFS) — that is, solutions at the vertices of the feasible region. This is especially true for linear programming problems.\n",
        "\n",
        "## Summary\n",
        "\n",
        "To convert the interior solution found by the barrier method to a vertex solution, Gurobi uses a process called \"crossover.\" The crossover step takes the non-vertex solution from the barrier method and iteratively refines it until it reaches a vertex of the feasible region, ensuring that the result is a basic feasible solution.\n",
        "\n"
      ]
    },
    {
      "cell_type": "code",
      "execution_count": 32,
      "id": "DJRDxORD69Mx",
      "metadata": {
        "id": "DJRDxORD69Mx"
      },
      "outputs": [],
      "source": [
        "# Extract values of decision variables and store in a matrix\n",
        "alloc_matrix = np.array([[x[i, j].x for j in range(len(expense_data))] for i in range(len(fund_data))])\n",
        "\n",
        "# Convert the matrix to a DataFrame\n",
        "alloc_df = pd.DataFrame(alloc_matrix, columns=expense_data['Expense Id'], index=fund_data['Fund Id'])\n",
        "\n",
        "# Melt the DataFrame to get a long format\n",
        "alloc_df = alloc_df.reset_index().melt(id_vars='Fund Id', value_name='Amount_Allocated').query('Amount_Allocated > 0')\n",
        "\n",
        "# Calculate the total expense covered and remaining unfunded expense\n",
        "expense_covered = alloc_df.groupby('Expense Id')['Amount_Allocated'].sum()\n",
        "expense_data['Covered'] = expense_data['Expense Id'].map(expense_covered).fillna(0)\n",
        "expense_data['Unfunded'] = expense_data['Amount'] - expense_data['Covered']\n",
        "\n",
        "# Calculate the fund balance\n",
        "fund_used = alloc_df.groupby('Fund Id')['Amount_Allocated'].sum()\n",
        "fund_data['Used'] = fund_data['Fund Id'].map(fund_used).fillna(0)\n",
        "fund_data['Balance'] = fund_data['Amount'] - fund_data['Used']\n",
        "\n",
        "# Save to Excel with multiple sheets\n",
        "with pd.ExcelWriter('output.xlsx') as writer:\n",
        "    fund_data.to_excel(writer, sheet_name='Fund Data', index=False)\n",
        "    expense_data.to_excel(writer, sheet_name='Expense Data', index=False)\n",
        "    alloc_df.to_excel(writer, sheet_name='Allocation Details', index=False)\n"
      ]
    },
    {
      "cell_type": "code",
      "execution_count": 33,
      "id": "6be12d36",
      "metadata": {
        "id": "6be12d36"
      },
      "outputs": [
        {
          "ename": "ModuleNotFoundError",
          "evalue": "No module named 'google.colab'",
          "output_type": "error",
          "traceback": [
            "\u001b[0;31m---------------------------------------------------------------------------\u001b[0m",
            "\u001b[0;31mModuleNotFoundError\u001b[0m                       Traceback (most recent call last)",
            "\u001b[0;32m<ipython-input-33-7ca3fc91a90e>\u001b[0m in \u001b[0;36m<module>\u001b[0;34m\u001b[0m\n\u001b[0;32m----> 1\u001b[0;31m \u001b[0;32mfrom\u001b[0m \u001b[0mgoogle\u001b[0m\u001b[0;34m.\u001b[0m\u001b[0mcolab\u001b[0m \u001b[0;32mimport\u001b[0m \u001b[0mfiles\u001b[0m\u001b[0;34m\u001b[0m\u001b[0;34m\u001b[0m\u001b[0m\n\u001b[0m\u001b[1;32m      2\u001b[0m \u001b[0mfiles\u001b[0m\u001b[0;34m.\u001b[0m\u001b[0mdownload\u001b[0m\u001b[0;34m(\u001b[0m\u001b[0;34m'output.xlsx'\u001b[0m\u001b[0;34m)\u001b[0m\u001b[0;34m\u001b[0m\u001b[0;34m\u001b[0m\u001b[0m\n",
            "\u001b[0;31mModuleNotFoundError\u001b[0m: No module named 'google.colab'"
          ]
        }
      ],
      "source": [
        "from google.colab import files\n",
        "files.download('output.xlsx')"
      ]
    }
  ],
  "metadata": {
    "colab": {
      "machine_shape": "hm",
      "provenance": []
    },
    "kernelspec": {
      "display_name": "Python 3",
      "name": "python3"
    },
    "language_info": {
      "codemirror_mode": {
        "name": "ipython",
        "version": 3
      },
      "file_extension": ".py",
      "mimetype": "text/x-python",
      "name": "python",
      "nbconvert_exporter": "python",
      "pygments_lexer": "ipython3",
      "version": "3.8.8"
    }
  },
  "nbformat": 4,
  "nbformat_minor": 5
}
